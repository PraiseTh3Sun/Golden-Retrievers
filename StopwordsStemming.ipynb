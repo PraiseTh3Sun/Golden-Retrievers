{
 "cells": [
  {
   "cell_type": "code",
   "execution_count": null,
   "id": "f6f5486f-a3d4-47dd-ab87-40510afcc05e",
   "metadata": {},
   "outputs": [],
   "source": [
    "preprocessed_file = \"preprocessed_metadata.csv\"\n",
    "if not os.path.isfile(preprocessed_file):\n",
    "    def preprocess_csv(input_file, output_file):\n",
    "        \"\"\"Wendet Stopword-Entfernung und Stemming auf die relevanten Felder der CSV an.\"\"\"\n",
    "        df = pd.read_csv(input_file)\n",
    "        \n",
    "        # Gehe davon aus, dass die CSV eine Spalte 'abstract' enthält\n",
    "        if 'abstract' in df.columns:\n",
    "            df['abstract'] = df['abstract'].fillna('').apply(remove_stopwords).apply(stem_text)\n",
    "        \n",
    "        # Speichere die verarbeitete Datei\n",
    "        df.to_csv(output_file, index=False)\n",
    "        print(f\"Datei wurde vorverarbeitet und in {output_file} gespeichert.\")\n",
    "\n",
    "    preprocess_csv(DATA, preprocessed_file)\n",
    "\n",
    "DATA = preprocessed_file  # Aktualisiere den Pfad für den Import in Solr"
   ]
  }
 ],
 "metadata": {
  "kernelspec": {
   "display_name": "Python 3 (ipykernel)",
   "language": "python",
   "name": "python3"
  },
  "language_info": {
   "codemirror_mode": {
    "name": "ipython",
    "version": 3
   },
   "file_extension": ".py",
   "mimetype": "text/x-python",
   "name": "python",
   "nbconvert_exporter": "python",
   "pygments_lexer": "ipython3",
   "version": "3.12.7"
  }
 },
 "nbformat": 4,
 "nbformat_minor": 5
}
