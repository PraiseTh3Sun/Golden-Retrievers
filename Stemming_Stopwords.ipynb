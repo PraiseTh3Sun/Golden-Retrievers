{
 "cells": [
  {
   "cell_type": "code",
   "execution_count": null,
   "id": "e2f8fb1d-046f-44d6-8d41-2fbda44776ba",
   "metadata": {},
   "outputs": [],
   "source": [
    "import pandas as pd\n",
    "from nltk.stem import PorterStemmer\n",
    "from nltk.corpus import stopwords\n",
    "import nltk\n",
    "\n",
    "# Download required NLTK data\n",
    "nltk.download('stopwords')\n",
    "\n",
    "def remove_stopwords(text):\n",
    "    \"\"\"Remove stopwords from text.\"\"\"\n",
    "    stop_words = set(stopwords.words('english'))\n",
    "    return ' '.join([word for word in text.lower().split() if word not in stop_words])\n",
    "\n",
    "def stem_text(text):\n",
    "    \"\"\"Apply Porter stemming to text.\"\"\"\n",
    "    stemmer = PorterStemmer()\n",
    "    return ' '.join([stemmer.stem(word) for word in text.lower().split()])\n",
    "\n",
    "\n",
    "\n",
    "\n",
    "\n",
    "preprocessed_file = \"preprocessed_metadata.csv\"\n",
    "if not os.path.isfile(preprocessed_file):\n",
    "    def preprocess_csv(input_file, output_file):\n",
    "        \"\"\"Wendet Stopword-Entfernung und Stemming auf die relevanten Felder der CSV an.\"\"\"\n",
    "        df = pd.read_csv(input_file)\n",
    "        \n",
    "        # Gehe davon aus, dass die CSV eine Spalte 'abstract' enthält\n",
    "        if 'abstract' in df.columns:\n",
    "            df['abstract'] = df['abstract'].fillna('').apply(remove_stopwords).apply(stem_text)\n",
    "        \n",
    "        # Speichere die verarbeitete Datei\n",
    "        df.to_csv(output_file, index=False)\n",
    "        print(f\"Datei wurde vorverarbeitet und in {output_file} gespeichert.\")\n",
    "\n",
    "    preprocess_csv(DATA, preprocessed_file)\n",
    "\n",
    "DATA = preprocessed_file  # Aktualisiere den Pfad für den Import in Solr"
   ]
  }
 ],
 "metadata": {
  "kernelspec": {
   "display_name": "Python 3 (ipykernel)",
   "language": "python",
   "name": "python3"
  },
  "language_info": {
   "codemirror_mode": {
    "name": "ipython",
    "version": 3
   },
   "file_extension": ".py",
   "mimetype": "text/x-python",
   "name": "python",
   "nbconvert_exporter": "python",
   "pygments_lexer": "ipython3",
   "version": "3.12.7"
  }
 },
 "nbformat": 4,
 "nbformat_minor": 5
}
