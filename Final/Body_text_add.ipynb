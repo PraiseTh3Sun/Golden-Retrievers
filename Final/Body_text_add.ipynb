{
 "cells": [
  {
   "cell_type": "code",
   "execution_count": 1,
   "id": "350da664-75ac-482c-b0f0-ed842ea3c42a",
   "metadata": {},
   "outputs": [
    {
     "name": "stderr",
     "output_type": "stream",
     "text": [
      "Processing rows: 100%|█████████████████████████████████████████████████████████| 35094/35094 [00:08<00:00, 3925.89it/s]\n",
      "Writing to CSV: 100%|██████████████████████████████████████████████████████████| 35094/35094 [00:07<00:00, 4805.70it/s]"
     ]
    },
    {
     "name": "stdout",
     "output_type": "stream",
     "text": [
      "Data has been successfully written to 'output.csv'.\n"
     ]
    },
    {
     "name": "stderr",
     "output_type": "stream",
     "text": [
      "\n"
     ]
    }
   ],
   "source": [
    "import csv\n",
    "import os\n",
    "import json\n",
    "from tqdm import tqdm\n",
    "\n",
    "# Open the input CSV file\n",
    "with open('metadata.csv', encoding='utf-8') as f_in:  # Specify UTF-8 encoding\n",
    "    reader = csv.DictReader(f_in)\n",
    "    rows = list(reader)  # Read all rows into a list for progress tracking\n",
    "\n",
    "    for row in tqdm(rows, desc=\"Processing rows\"):\n",
    "\n",
    "        # Access the full text (if available) for Body Text\n",
    "        body_text = []\n",
    "        if row['pdf_json_files']:\n",
    "            for json_path in row['pdf_json_files'].split('; '):\n",
    "                with open(json_path, encoding='utf-8') as f_json:  # Specify UTF-8 encoding\n",
    "                    full_text_dict = json.load(f_json)\n",
    "\n",
    "                    # Grab body text from the full text\n",
    "                    for paragraph_dict in full_text_dict['body_text']:\n",
    "                        paragraph_text = paragraph_dict['text']\n",
    "                        body_text.append(paragraph_text)\n",
    "\n",
    "        # Add body text to the current row\n",
    "        row['body_text'] = \" \".join(body_text)  # Join body text paragraphs into a single string\n",
    "\n",
    "# Write the results to a new CSV file\n",
    "with open('output4.csv', 'w', newline='', encoding='utf-8') as f_out:\n",
    "    fieldnames = list(rows[0].keys()) + ['body_text']  # Include all original columns and add 'body_text'\n",
    "    writer = csv.DictWriter(f_out, fieldnames=fieldnames)\n",
    "\n",
    "    # Write the header\n",
    "    writer.writeheader()\n",
    "\n",
    "    # Write the rows\n",
    "    for row in tqdm(rows, desc=\"Writing to CSV\"):\n",
    "        writer.writerow(row)\n",
    "\n",
    "print(\"Data has been successfully written to 'output.csv'.\")\n"
   ]
  },
  {
   "cell_type": "code",
   "execution_count": null,
   "id": "01d7543f-365b-428b-bc0f-e1fafb03aa26",
   "metadata": {},
   "outputs": [],
   "source": []
  }
 ],
 "metadata": {
  "kernelspec": {
   "display_name": "Python 3 (ipykernel)",
   "language": "python",
   "name": "python3"
  },
  "language_info": {
   "codemirror_mode": {
    "name": "ipython",
    "version": 3
   },
   "file_extension": ".py",
   "mimetype": "text/x-python",
   "name": "python",
   "nbconvert_exporter": "python",
   "pygments_lexer": "ipython3",
   "version": "3.12.8"
  }
 },
 "nbformat": 4,
 "nbformat_minor": 5
}
