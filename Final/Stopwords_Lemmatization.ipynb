{
 "cells": [
  {
   "cell_type": "code",
   "execution_count": 5,
   "id": "f35999a7-eb09-4f99-86ec-cbbba91513de",
   "metadata": {},
   "outputs": [
    {
     "name": "stderr",
     "output_type": "stream",
     "text": [
      "[nltk_data] Downloading package stopwords to\n",
      "[nltk_data]     C:\\Users\\flori\\AppData\\Roaming\\nltk_data...\n",
      "[nltk_data]   Package stopwords is already up-to-date!\n",
      "[nltk_data] Downloading package wordnet to\n",
      "[nltk_data]     C:\\Users\\flori\\AppData\\Roaming\\nltk_data...\n",
      "[nltk_data]   Package wordnet is already up-to-date!\n",
      "[nltk_data] Downloading package omw-1.4 to\n",
      "[nltk_data]     C:\\Users\\flori\\AppData\\Roaming\\nltk_data...\n",
      "[nltk_data]   Package omw-1.4 is already up-to-date!\n",
      "Processing rows: 100%|██████████████████████████████████████████████████████████| 35094/35094 [04:14<00:00, 137.92it/s]\n",
      "Writing to CSV: 100%|██████████████████████████████████████████████████████████| 35094/35094 [00:05<00:00, 5959.88it/s]"
     ]
    },
    {
     "name": "stdout",
     "output_type": "stream",
     "text": [
      "Data has been successfully written to 'processed_output.csv'.\n"
     ]
    },
    {
     "name": "stderr",
     "output_type": "stream",
     "text": [
      "\n"
     ]
    }
   ],
   "source": [
    "import csv\n",
    "from tqdm import tqdm\n",
    "from nltk.corpus import stopwords\n",
    "from nltk.stem import WordNetLemmatizer\n",
    "import nltk\n",
    "import csv\n",
    "csv.field_size_limit(10_000_000)  # Set the field size limit explicitly\n",
    "\n",
    "\n",
    "# Download required NLTK data\n",
    "nltk.download('stopwords')\n",
    "nltk.download('wordnet')\n",
    "nltk.download('omw-1.4')\n",
    "\n",
    "# Initialize stopwords and lemmatizer\n",
    "stop_words = set(stopwords.words('english'))\n",
    "lemmatizer = WordNetLemmatizer()\n",
    "\n",
    "def preprocess_text(text):\n",
    "    \"\"\"Remove stopwords and apply lemmatization.\"\"\"\n",
    "    if not text:\n",
    "        return \"\"\n",
    "    words = text.split()\n",
    "    processed = [lemmatizer.lemmatize(word) for word in words if word.lower() not in stop_words]\n",
    "    return \" \".join(processed)\n",
    "\n",
    "# Input and output file names\n",
    "input_file = 'output2.csv'\n",
    "output_file = 'processed_output.csv'\n",
    "\n",
    "# Open the input CSV file\n",
    "with open(input_file, encoding='utf-8') as f_in:\n",
    "    reader = csv.DictReader(f_in)\n",
    "    rows = list(reader)  # Read all rows into a list for progress tracking\n",
    "\n",
    "    # Process each row\n",
    "    for row in tqdm(rows, desc=\"Processing rows\"):\n",
    "        for column in ['title', 'abstract', 'body_text', 'body_text2']:\n",
    "            if column in row:  # Check if the column exists in the row\n",
    "                row[column] = preprocess_text(row[column])\n",
    "\n",
    "# Write the processed data to a new CSV file\n",
    "with open(output_file, 'w', newline='', encoding='utf-8') as f_out:\n",
    "    fieldnames = rows[0].keys()  # Use the same fieldnames as in the input file\n",
    "    writer = csv.DictWriter(f_out, fieldnames=fieldnames)\n",
    "\n",
    "    # Write the header\n",
    "    writer.writeheader()\n",
    "\n",
    "    # Write the processed rows\n",
    "    for row in tqdm(rows, desc=\"Writing to CSV\"):\n",
    "        writer.writerow(row)\n",
    "\n",
    "print(f\"Data has been successfully written to '{output_file}'.\")\n"
   ]
  },
  {
   "cell_type": "code",
   "execution_count": null,
   "id": "39e42a18-be1e-4f61-9853-455bb78a81d5",
   "metadata": {},
   "outputs": [],
   "source": []
  }
 ],
 "metadata": {
  "kernelspec": {
   "display_name": "Python 3 (ipykernel)",
   "language": "python",
   "name": "python3"
  },
  "language_info": {
   "codemirror_mode": {
    "name": "ipython",
    "version": 3
   },
   "file_extension": ".py",
   "mimetype": "text/x-python",
   "name": "python",
   "nbconvert_exporter": "python",
   "pygments_lexer": "ipython3",
   "version": "3.12.8"
  }
 },
 "nbformat": 4,
 "nbformat_minor": 5
}
