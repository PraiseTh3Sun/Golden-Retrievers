{
 "cells": [
  {
   "cell_type": "code",
   "execution_count": null,
   "id": "d8775012-c6b1-4dbb-b8f6-e7613dd2eed6",
   "metadata": {},
   "outputs": [],
   "source": [
    "import pandas as pd\n",
    "import spacy\n",
    "import os\n",
    "from nltk.corpus import stopwords\n",
    "import nltk\n",
    "\n",
    "# Download required NLTK data\n",
    "nltk.download('stopwords')\n",
    "\n",
    "# Laden des vortrainierten spaCy-Modells\n",
    "nlp = spacy.load(\"en_core_web_sm\")\n",
    "\n",
    "# Stopword-Liste\n",
    "stop_words = set(stopwords.words('english'))\n",
    "\n",
    "def preprocess_text(text):\n",
    "    \"\"\"Entfernt Stopwörter und wendet Lemmatization mit spaCy an.\"\"\"\n",
    "    doc = nlp(text.lower())\n",
    "    return ' '.join([token.lemma_ for token in doc if token.text not in stop_words and not token.is_punct])\n",
    "\n",
    "preprocessed_file = \"preprocessed_metadata.csv\"\n",
    "\n",
    "if not os.path.isfile(preprocessed_file):\n",
    "    def preprocess_csv(input_file, output_file):\n",
    "        \"\"\"Wendet Stopword-Entfernung und Lemmatization auf die relevanten Felder der CSV an.\"\"\"\n",
    "        df = pd.read_csv(input_file)\n",
    "\n",
    "        # Gehe davon aus, dass die CSV eine Spalte 'abstract' enthält\n",
    "        if 'abstract' in df.columns:\n",
    "            df['abstract'] = df['abstract'].fillna('').apply(preprocess_text)\n",
    "\n",
    "        # Speichere die verarbeitete Datei\n",
    "        df.to_csv(output_file, index=False)\n",
    "        print(f\"Datei wurde vorverarbeitet und in {output_file} gespeichert.\")\n",
    "\n",
    "    preprocess_csv(DATA, preprocessed_file)\n",
    "\n",
    "DATA = preprocessed_file  # Aktualisiere den Pfad für den Import in Solr\n"
   ]
  }
 ],
 "metadata": {
  "kernelspec": {
   "display_name": "Python 3 (ipykernel)",
   "language": "python",
   "name": "python3"
  },
  "language_info": {
   "codemirror_mode": {
    "name": "ipython",
    "version": 3
   },
   "file_extension": ".py",
   "mimetype": "text/x-python",
   "name": "python",
   "nbconvert_exporter": "python",
   "pygments_lexer": "ipython3",
   "version": "3.12.7"
  }
 },
 "nbformat": 4,
 "nbformat_minor": 5
}
