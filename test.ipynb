{
 "cells": [
  {
   "cell_type": "code",
   "execution_count": 6,
   "metadata": {},
   "outputs": [
    {
     "name": "stdout",
     "output_type": "stream",
     "text": [
      "Expanded Query: None\n"
     ]
    }
   ],
   "source": [
    "import ollama \n",
    "import xml.etree.ElementTree as ET\n",
    "#import pysolr\n",
    "\n",
    "# Load and parse the XML file\n",
    "tree = ET.parse('topics-rnd5.xml')\n",
    "root = tree.getroot()\n",
    "\n",
    "# Extract queries\n",
    "queries = [topic.find('query').text for topic in root.findall('topic')]\n",
    "\n",
    "# Initialize Solr\n",
    "#solr = pysolr.Solr('http://localhost:8983/solr/cord19', always_commit=True)\n",
    "\n",
    "# Model ID and Pipeline Initialization\n",
    "\n",
    "def expand_query(query):\n",
    "    prompt = f\"\"\"\n",
    "    You are an expert in information retrieval and processing user queries.\n",
    "    Your task is to expand the original query into a list of queries that are semantically similar or contextually relevant to the original query.\n",
    "    This expansion should help retrieve a broader range of results that are still closely related to the original query.\n",
    "    Example: \n",
    "    Original Query: 'coronavirus recovery'\n",
    "    Expanded Query: [COVID-19 rehabilitation, Long COVID treatment, Post-viral recovery, Economic recovery COVID-19, Post-pandemic recovery, Psychological recovery COVID-19, Mental health pandemic recovery, Pandemic recovery strategies, COVID-19 recovery plan, Coronavirus aftermath, COVID recovery]\n",
    "    Output structure: [(COVID-19 rehabilitation OR Long COVID treatment OR Post-viral recovery) AND (Economic recovery COVID-19 OR Post-pandemic recovery) AND (Psychological recovery COVID-19 OR Mental health pandemic recovery) AND (Pandemic recovery strategies OR COVID-19 recovery plan) AND (Coronavirus aftermath OR COVID recovery)]\n",
    "    Original Query: {query}\n",
    "    \"\"\"\n",
    "    try: \n",
    "        response = ollama.chat(model = \"qwen2.5:0.5b\", messages=[{\"role\": \"user\", \"content\": prompt}])\n",
    "        return response.get(\"content\")\n",
    "    except Exception as e:\n",
    "        print(f\"Error: {e}\")\n",
    "# Expand the first query\n",
    "if queries:\n",
    "    expanded_query = expand_query(queries[0])\n",
    "    print(\"Expanded Query:\", expanded_query)\n",
    "else:\n",
    "    print(\"No queries found in the XML file.\")\n"
   ]
  },
  {
   "cell_type": "code",
   "execution_count": 3,
   "metadata": {},
   "outputs": [
    {
     "ename": "AttributeError",
     "evalue": "module 'ollama' has no attribute 'query'",
     "output_type": "error",
     "traceback": [
      "\u001b[1;31m---------------------------------------------------------------------------\u001b[0m",
      "\u001b[1;31mAttributeError\u001b[0m                            Traceback (most recent call last)",
      "Cell \u001b[1;32mIn[3], line 7\u001b[0m\n\u001b[0;32m      4\u001b[0m model \u001b[38;5;241m=\u001b[39m \u001b[38;5;124m\"\u001b[39m\u001b[38;5;124mllama3.2:1b\u001b[39m\u001b[38;5;124m\"\u001b[39m  \u001b[38;5;66;03m# Replace with the name of the model you want to use\u001b[39;00m\n\u001b[0;32m      6\u001b[0m \u001b[38;5;66;03m# Query the model\u001b[39;00m\n\u001b[1;32m----> 7\u001b[0m response \u001b[38;5;241m=\u001b[39m \u001b[43mollama\u001b[49m\u001b[38;5;241;43m.\u001b[39;49m\u001b[43mquery\u001b[49m(model, \u001b[38;5;124m\"\u001b[39m\u001b[38;5;124mHello, how are you?\u001b[39m\u001b[38;5;124m\"\u001b[39m)\n\u001b[0;32m      9\u001b[0m \u001b[38;5;66;03m# Print the response\u001b[39;00m\n\u001b[0;32m     10\u001b[0m \u001b[38;5;28mprint\u001b[39m(response)\n",
      "\u001b[1;31mAttributeError\u001b[0m: module 'ollama' has no attribute 'query'"
     ]
    }
   ],
   "source": [
    "import ollama\n",
    "\n",
    "# Connect to the Ollama server\n",
    "model = \"llama3.2:1b\"  # Replace with the name of the model you want to use\n",
    "\n",
    "# Query the model\n",
    "response = ollama.query(model, \"Hello, how are you?\")\n",
    "\n",
    "# Print the response\n",
    "print(response)\n"
   ]
  }
 ],
 "metadata": {
  "kernelspec": {
   "display_name": "myenv",
   "language": "python",
   "name": "python3"
  },
  "language_info": {
   "codemirror_mode": {
    "name": "ipython",
    "version": 3
   },
   "file_extension": ".py",
   "mimetype": "text/x-python",
   "name": "python",
   "nbconvert_exporter": "python",
   "pygments_lexer": "ipython3",
   "version": "3.10.13"
  }
 },
 "nbformat": 4,
 "nbformat_minor": 2
}
